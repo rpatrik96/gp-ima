{
 "cells": [
  {
   "cell_type": "markdown",
   "source": [
    "# Configuration"
   ],
   "metadata": {
    "collapsed": false
   }
  },
  {
   "cell_type": "code",
   "execution_count": 114,
   "metadata": {
    "collapsed": true,
    "ExecuteTime": {
     "end_time": "2023-07-12T18:06:41.082188Z",
     "start_time": "2023-07-12T18:06:41.023035Z"
    }
   },
   "outputs": [],
   "source": [
    "\n",
    "import numpy as np\n",
    "import matplotlib.pyplot as plt\n",
    "\n",
    "from gp_ima.ima import C_ima_digamma, C_ima_sample\n",
    "import GPy\n",
    "from tueplots import bundles, figsizes"
   ]
  },
  {
   "cell_type": "code",
   "execution_count": null,
   "outputs": [],
   "source": [
    "import sys\n",
    "\n",
    "%load_ext autoreload\n",
    "%autoreload 2\n",
    "\n",
    "sys.path.insert(0, '.')"
   ],
   "metadata": {
    "collapsed": false
   }
  },
  {
   "cell_type": "code",
   "execution_count": null,
   "outputs": [],
   "source": [
    "from analysis import plot_typography, estimate2uniform, generate_moebius_data, format_violin, RED, BLUE, calc_mcc"
   ],
   "metadata": {
    "collapsed": false
   }
  },
  {
   "cell_type": "code",
   "execution_count": null,
   "outputs": [],
   "source": [
    "USETEX = True"
   ],
   "metadata": {
    "collapsed": false
   }
  },
  {
   "cell_type": "code",
   "execution_count": null,
   "outputs": [],
   "source": [
    "plt.rcParams.update(bundles.neurips2022(usetex=USETEX))\n",
    "plt.rcParams.update({\n",
    "    'text.latex.preamble': [r'\\usepackage{amsfonts}', # mathbb\n",
    "                            r'\\usepackage{amsmath}'] # boldsymbol\n",
    "})"
   ],
   "metadata": {
    "collapsed": false
   }
  },
  {
   "cell_type": "code",
   "execution_count": null,
   "outputs": [],
   "source": [
    "plot_typography(usetex=USETEX, small=12, medium=16, big=20)"
   ],
   "metadata": {
    "collapsed": false
   }
  },
  {
   "cell_type": "markdown",
   "source": [
    "# Functions"
   ],
   "metadata": {
    "collapsed": false
   }
  },
  {
   "cell_type": "code",
   "execution_count": null,
   "outputs": [],
   "source": [
    "def train_bayesian_gplvm(X, dim, num_samples_c_ima, num_restarts, num_seeds, seed):\n",
    "    cimas_sparse = []\n",
    "    cimas_sparse_prior = []\n",
    "    zs_sparse = []\n",
    "    zs_uni_sparse = []\n",
    "    np.random.seed(seed)\n",
    "    for i in range(num_seeds):\n",
    "        kernel = GPy.kern.RBF(dim, ARD=False) + GPy.kern.Bias(dim)\n",
    "        m = GPy.models.BayesianGPLVM(np.asarray(X), dim, kernel=kernel, num_inducing=20)\n",
    "        m.likelihood = GPy.likelihoods.Gaussian(variance=1e-4)\n",
    "        cimas_sparse_prior.append(np.mean([C_ima_sample(m) for _ in range(num_samples_c_ima)]))\n",
    "        m.optimize_restarts(num_restarts, optimizer='lbfgs')\n",
    "\n",
    "        cimas_sparse.append(np.mean([C_ima_sample(m) for _ in range(num_samples_c_ima)]))\n",
    "        zs_sparse.append(m.X.mean)\n",
    "        zs_uni_sparse.append(estimate2uniform(zs_sparse[-1]))\n",
    "\n",
    "    return cimas_sparse, cimas_sparse_prior, zs_sparse , zs_uni_sparse\n",
    "\n",
    "def train_gplvm(X, dim, num_samples_c_ima, num_restarts, num_seeds, seed):\n",
    "    cimas = []\n",
    "    cimas_prior = []\n",
    "    zs = []\n",
    "    zs_uni = []\n",
    "    np.random.seed(seed)\n",
    "    for i in range(num_seeds):\n",
    "        kernel = GPy.kern.RBF(dim, ARD=False) + GPy.kern.Bias(dim)\n",
    "        m = GPy.models.GPLVM(np.asarray(X), dim, kernel=kernel)\n",
    "        m.likelihood = GPy.likelihoods.Gaussian(variance=1e-6)\n",
    "        cimas_prior.append(np.mean([C_ima_sample(m) for _ in range(num_samples_c_ima)]))\n",
    "        m.optimize_restarts(num_restarts, optimizer='lbfgs')\n",
    "\n",
    "        cimas.append(np.mean([C_ima_sample(m) for _ in range(num_samples_c_ima)]))\n",
    "        zs.append(m.X.values)\n",
    "        zs_uni.append(estimate2uniform(zs[-1]))\n",
    "\n",
    "    return cimas, cimas_prior, zs , zs_uni\n",
    "\n"
   ],
   "metadata": {
    "collapsed": false
   }
  },
  {
   "cell_type": "markdown",
   "source": [
    "# Train models"
   ],
   "metadata": {
    "collapsed": false
   }
  },
  {
   "cell_type": "code",
   "execution_count": 123,
   "outputs": [],
   "source": [
    "NUM_DATA = 500\n",
    "SEED = 42\n",
    "NUM_SEEDS = 5\n",
    "\n"
   ],
   "metadata": {
    "collapsed": false,
    "ExecuteTime": {
     "end_time": "2023-07-12T18:09:26.464998Z",
     "start_time": "2023-07-12T18:09:26.407207Z"
    }
   }
  },
  {
   "cell_type": "markdown",
   "source": [
    "## 2D"
   ],
   "metadata": {
    "collapsed": false
   }
  },
  {
   "cell_type": "code",
   "execution_count": 125,
   "outputs": [
    {
     "name": "stdout",
     "output_type": "stream",
     "text": [
      "Optimization restart 1/5, f = -2596.4202124419394\n",
      "Optimization restart 2/5, f = -2596.4172090978896\n",
      "Optimization restart 3/5, f = -2596.4198410951863\n",
      "Optimization restart 4/5, f = -2596.4193691671594\n",
      "Optimization restart 5/5, f = -2342.3127646550947\n",
      "Optimization restart 1/5, f = -2596.4192268388188\n",
      "Optimization restart 2/5, f = -2596.4194532763227\n",
      "Optimization restart 3/5, f = -2353.80913556185\n",
      "Optimization restart 4/5, f = -2169.0996624777918\n",
      "Optimization restart 5/5, f = -2281.748069107265\n",
      "Optimization restart 1/5, f = -2596.419515285671\n",
      "Optimization restart 2/5, f = -2316.909745619596\n",
      "Optimization restart 3/5, f = -2297.624583302467\n",
      "Optimization restart 4/5, f = -2596.417724017836\n",
      "Optimization restart 5/5, f = -2596.418611314886\n",
      "Optimization restart 1/5, f = -2596.418841509837\n",
      "Optimization restart 2/5, f = -2395.764986532248\n",
      "Optimization restart 3/5, f = -2596.419911639028\n",
      "Optimization restart 4/5, f = -2596.419147393385\n",
      "Optimization restart 5/5, f = -2596.417172499977\n",
      "Optimization restart 1/5, f = -2596.416339748439\n",
      "Optimization restart 2/5, f = -2596.418992742434\n",
      "Optimization restart 3/5, f = -2596.419303750571\n",
      "Optimization restart 4/5, f = -2596.4179268342295\n",
      "Optimization restart 5/5, f = -2596.420000252082\n",
      "Optimization restart 1/2, f = -5936.167153583115\n",
      "Optimization restart 2/2, f = -2597.982959266982\n",
      "Optimization restart 1/2, f = -5936.167153583115\n",
      "Optimization restart 2/2, f = -4550.284846895757\n",
      "Optimization restart 1/2, f = -5936.167153583115\n",
      "Optimization restart 2/2, f = -2595.3292775784\n",
      "Optimization restart 1/2, f = -5936.167153583115\n",
      "Optimization restart 2/2, f = -2595.3292774509096\n",
      "Optimization restart 1/2, f = -5936.167153583115\n",
      "Optimization restart 2/2, f = -4335.6367338984455\n"
     ]
    }
   ],
   "source": [
    "\n",
    "NUM_SAMPLES_C_IMA = 100\n",
    "NUM_RESTARTS = 5\n",
    "DIM = LATENT_DIM = OBS_DIM = 2\n",
    "\n",
    "np.random.seed(SEED)\n",
    "Z, X, c = generate_moebius_data(NUM_DATA, LATENT_DIM, OBS_DIM)\n",
    "\n",
    "cimas_sparse_2d, cimas_sparse_prior_2d, zs_sparse_2d, zs_uni_sparse_2d = train_bayesian_gplvm(X, DIM, NUM_SAMPLES_C_IMA,\n",
    "                                                                                              NUM_RESTARTS, NUM_SEEDS,\n",
    "                                                                                              SEED)\n",
    "mccs_sparse_2d = [calc_mcc(z, Z) for z in zs_uni_sparse_2d]\n",
    "\n",
    "NUM_RESTARTS = 2\n",
    "cimas_2d, cimas_prior_2d, zs_2d , zs_uni_2d = train_gplvm(X, DIM, NUM_SAMPLES_C_IMA, NUM_RESTARTS, NUM_SEEDS, SEED)\n",
    "mccs_2d = [calc_mcc(z, Z) for z in zs_uni_2d]"
   ],
   "metadata": {
    "collapsed": false,
    "ExecuteTime": {
     "end_time": "2023-07-12T18:20:23.422424Z",
     "start_time": "2023-07-12T18:09:37.592823Z"
    }
   }
  },
  {
   "cell_type": "code",
   "execution_count": 126,
   "outputs": [
    {
     "data": {
      "text/plain": "[0.0022708264143404175,\n 0.0022708264143404175,\n 0.0022708264143404175,\n 0.0022708264143404175,\n 0.0022708264143404175]"
     },
     "execution_count": 126,
     "metadata": {},
     "output_type": "execute_result"
    }
   ],
   "source": [
    "cimas_2d"
   ],
   "metadata": {
    "collapsed": false,
    "ExecuteTime": {
     "end_time": "2023-07-12T18:30:54.877501Z",
     "start_time": "2023-07-12T18:30:54.815990Z"
    }
   }
  },
  {
   "cell_type": "code",
   "execution_count": null,
   "outputs": [],
   "source": [
    "LABELPAD = 1\n",
    "TICK_PADDING = 2\n",
    "IDX = 0\n",
    "IDX_SPARSE = 1\n",
    "fig = plt.figure(figsize=figsizes.neurips2022(nrows=1, ncols=2, rel_width=1)['figure.figsize'])\n",
    "\n",
    "ax = fig.add_subplot(141)\n",
    "ax.scatter(Z[:, 0], Z[:, 1], c=c, cmap=\"hsv\", label=\"Latents\")\n",
    "\n",
    "ax2 = fig.add_subplot(142)\n",
    "ax2.scatter(X[:, 0], X[:, 1], c=c, cmap=\"hsv\", label=\"Observations\")\n",
    "\n",
    "ax3 = fig.add_subplot(143)\n",
    "ax3.scatter(zs_uni_2d[IDX][:, 0], zs_uni_2d[IDX][:, 1], c=c, cmap=\"hsv\", label=\"Rec. (GPLVM)\")\n",
    "\n",
    "\n",
    "ax4 = fig.add_subplot(144)\n",
    "ax4.scatter(zs_uni_sparse_2d[IDX_SPARSE][:, 0], zs_uni_sparse_2d[IDX_SPARSE][:, 1], c=c, cmap=\"hsv\", label=\"Rec. (Sparse GPLVM)\")\n",
    "\n",
    "\n",
    "# Remove ticks and labels and set which side to label\n",
    "ticksoff = dict(labelleft=False, labelright=False, left=False, right=False, labelbottom=False, bottom=False)\n",
    "ax.tick_params(axis=\"both\", **ticksoff)\n",
    "ax2.tick_params(axis=\"both\", **ticksoff)\n",
    "ax3.tick_params(axis=\"both\", **ticksoff)\n",
    "ax4.tick_params(axis=\"both\", **ticksoff)\n",
    "\n",
    "ax.set_title(\"Latents\")\n",
    "ax2.set_title(\"Observations\")\n",
    "ax3.set_title(\"Rec. (GPLVM)\")\n",
    "ax4.set_title(\"Rec. (Sparse GPLVM)\")\n",
    "\n",
    "\n",
    "\n",
    "plt.savefig(\"gplvm_ima.svg\")"
   ],
   "metadata": {
    "collapsed": false
   }
  },
  {
   "cell_type": "markdown",
   "source": [
    "## 3D"
   ],
   "metadata": {
    "collapsed": false
   }
  },
  {
   "cell_type": "code",
   "execution_count": 102,
   "outputs": [
    {
     "name": "stdout",
     "output_type": "stream",
     "text": [
      "Optimization restart 1/2, f = -8892.333048554805\n",
      "Optimization restart 2/2, f = -7410.4127082568075\n",
      "Optimization restart 1/2, f = -8892.333048554805\n",
      "Optimization restart 2/2, f = -7437.7935463229505\n",
      "Optimization restart 1/2, f = -8892.333048554805\n",
      "Optimization restart 2/2, f = -4418.5988026243385\n",
      "Optimization restart 1/2, f = -8892.333048554805\n",
      "Optimization restart 2/2, f = -7377.2520684539395\n",
      "Optimization restart 1/2, f = -8892.333048554805\n",
      "Optimization restart 2/2, f = -7018.233468601604\n"
     ]
    }
   ],
   "source": [
    "NUM_SEEDS = 5\n",
    "NUM_RESTARTS = 5\n",
    "DIM = LATENT_DIM = OBS_DIM = 3\n",
    "\n",
    "np.random.seed(SEED)\n",
    "Z, X, c = generate_moebius_data(NUM_DATA, LATENT_DIM, OBS_DIM)\n",
    "\n",
    "# cimas_sparse_3d, cimas_sparse_prior_3d, zs_sparse_3d, zs_uni_sparse_3d = train_bayesian_gplvm(X, DIM, NUM_SAMPLES_C_IMA,\n",
    "#                                                                                               NUM_RESTARTS, NUM_SEEDS,\n",
    "#                                                                                               SEED)\n",
    "# mccs_sparse_3d = [calc_mcc(z, Z) for z in zs_uni_sparse_3d]\n",
    "\n",
    "NUM_RESTARTS = 2\n",
    "cimas_3d, cimas_prior_3d, zs_3d , zs_uni_3d = train_gplvm(X, DIM, NUM_SAMPLES_C_IMA, NUM_RESTARTS, NUM_SEEDS, SEED)\n",
    "mccs_3d = [calc_mcc(z, Z) for z in zs_uni_3d]"
   ],
   "metadata": {
    "collapsed": false,
    "ExecuteTime": {
     "end_time": "2023-07-12T16:23:28.198329Z",
     "start_time": "2023-07-12T16:10:31.086482Z"
    }
   }
  },
  {
   "cell_type": "markdown",
   "source": [
    "## 5D"
   ],
   "metadata": {
    "collapsed": false
   }
  },
  {
   "cell_type": "code",
   "execution_count": 103,
   "outputs": [
    {
     "name": "stdout",
     "output_type": "stream",
     "text": [
      "Optimization restart 1/2, f = -14791.341945542168\n",
      "Optimization restart 2/2, f = -13378.133889645942\n",
      "Optimization restart 1/2, f = -14791.341945542168\n",
      "Optimization restart 2/2, f = -13324.290807451509\n",
      "Optimization restart 1/2, f = -14791.341945542168\n",
      "Optimization restart 2/2, f = -13381.917296372525\n",
      "Optimization restart 1/2, f = -14791.341945542168\n",
      "Optimization restart 2/2, f = -13368.249408214022\n",
      "Optimization restart 1/2, f = -14791.341945542168\n",
      "Optimization restart 2/2, f = -8849.104455640243\n"
     ]
    }
   ],
   "source": [
    "NUM_RESTARTS = 5\n",
    "DIM = LATENT_DIM = OBS_DIM = 5\n",
    "\n",
    "np.random.seed(SEED)\n",
    "Z, X, c = generate_moebius_data(NUM_DATA, LATENT_DIM, OBS_DIM)\n",
    "\n",
    "# cimas_sparse_5d, cimas_sparse_prior_5d, zs_sparse_5d, zs_uni_sparse_5d = train_bayesian_gplvm(X, DIM, NUM_SAMPLES_C_IMA,\n",
    "#                                                                                               NUM_RESTARTS, NUM_SEEDS,\n",
    "#                                                                                               SEED)\n",
    "# mccs_sparse_5d = [calc_mcc(z, Z) for z in zs_uni_sparse_5d]\n",
    "\n",
    "NUM_RESTARTS = 2\n",
    "cimas_5d, cimas_prior_5d, zs_5d , zs_uni_5d = train_gplvm(X, DIM, NUM_SAMPLES_C_IMA, NUM_RESTARTS, NUM_SEEDS, SEED)\n",
    "mccs_5d = [calc_mcc(z, Z) for z in zs_uni_5d]"
   ],
   "metadata": {
    "collapsed": false,
    "ExecuteTime": {
     "end_time": "2023-07-12T16:38:06.906416Z",
     "start_time": "2023-07-12T16:23:28.200335Z"
    }
   }
  },
  {
   "cell_type": "markdown",
   "source": [
    "## 8D"
   ],
   "metadata": {
    "collapsed": false
   }
  },
  {
   "cell_type": "code",
   "execution_count": 104,
   "outputs": [
    {
     "name": "stdout",
     "output_type": "stream",
     "text": [
      "Optimization restart 1/2, f = -23605.080441510898\n",
      "Optimization restart 2/2, f = -22553.347284228137\n",
      "Optimization restart 1/2, f = -23605.080441510898\n",
      "Optimization restart 2/2, f = -16072.580273599538\n",
      "Optimization restart 1/2, f = -23605.080441510898\n",
      "Optimization restart 2/2, f = -22346.279311552014\n",
      "Optimization restart 1/2, f = -23605.080441510898\n",
      "Optimization restart 2/2, f = -16077.480762654586\n",
      "Optimization restart 1/2, f = -23605.080441510898\n",
      "Optimization restart 2/2, f = -22432.519254631665\n"
     ]
    }
   ],
   "source": [
    "NUM_RESTARTS = 5\n",
    "DIM = LATENT_DIM = OBS_DIM = 8\n",
    "\n",
    "np.random.seed(SEED)\n",
    "Z, X, c = generate_moebius_data(NUM_DATA, LATENT_DIM, OBS_DIM)\n",
    "\n",
    "# cimas_sparse_8d, cimas_sparse_prior_8d, zs_sparse_8d, zs_uni_sparse_8d = train_bayesian_gplvm(X, DIM, NUM_SAMPLES_C_IMA,\n",
    "#                                                                                               NUM_RESTARTS, NUM_SEEDS,\n",
    "#                                                                                               SEED)\n",
    "# mccs_sparse_8d = [calc_mcc(z, Z) for z in zs_uni_sparse_8d]\n",
    "\n",
    "NUM_RESTARTS = 2\n",
    "cimas_8d, cimas_prior_8d, zs_8d , zs_uni_8d = train_gplvm(X, DIM, NUM_SAMPLES_C_IMA, NUM_RESTARTS, NUM_SEEDS, SEED)\n",
    "mccs_8d = [calc_mcc(z, Z) for z in zs_uni_8d]"
   ],
   "metadata": {
    "collapsed": false,
    "ExecuteTime": {
     "end_time": "2023-07-12T17:03:16.263406Z",
     "start_time": "2023-07-12T16:38:06.910598Z"
    }
   }
  },
  {
   "cell_type": "markdown",
   "source": [
    "## 10D"
   ],
   "metadata": {
    "collapsed": false
   }
  },
  {
   "cell_type": "code",
   "execution_count": 105,
   "outputs": [
    {
     "name": "stdout",
     "output_type": "stream",
     "text": [
      "Optimization restart 1/2, f = -29465.050754955646\n",
      "Optimization restart 2/2, f = -28091.94848409862\n",
      "Optimization restart 1/2, f = -29465.050754955646\n",
      "Optimization restart 2/2, f = -21267.76373936543\n",
      "Optimization restart 1/2, f = -29465.050754955646\n",
      "Optimization restart 2/2, f = -27948.54919100292\n",
      "Optimization restart 1/2, f = -29465.050754955646\n",
      "Optimization restart 2/2, f = -21267.763948091633\n",
      "Optimization restart 1/2, f = -29465.050754955646\n",
      "Optimization restart 2/2, f = -21267.763851184172\n"
     ]
    }
   ],
   "source": [
    "NUM_RESTARTS = 5\n",
    "DIM = LATENT_DIM = OBS_DIM = 10\n",
    "\n",
    "np.random.seed(SEED)\n",
    "Z, X, c = generate_moebius_data(NUM_DATA, LATENT_DIM, OBS_DIM)\n",
    "\n",
    "# cimas_sparse_10d, cimas_sparse_prior_10d, zs_sparse_10d, zs_uni_sparse_10d = train_bayesian_gplvm(X, DIM,\n",
    "#                                                                                                   NUM_SAMPLES_C_IMA,\n",
    "#                                                                                                   NUM_RESTARTS,\n",
    "#                                                                                                   NUM_SEEDS, SEED)\n",
    "# mccs_sparse_10d = [calc_mcc(z, Z) for z in zs_uni_sparse_10d]\n",
    "\n",
    "NUM_RESTARTS = 2\n",
    "cimas_10d, cimas_prior_10d, zs_10d , zs_uni_10d = train_gplvm(X, DIM, NUM_SAMPLES_C_IMA, NUM_RESTARTS, NUM_SEEDS, SEED)\n",
    "mccs_sparse_10d = [calc_mcc(z, Z) for z in zs_uni_10d]"
   ],
   "metadata": {
    "collapsed": false,
    "ExecuteTime": {
     "end_time": "2023-07-12T17:28:36.728868Z",
     "start_time": "2023-07-12T17:03:16.265495Z"
    }
   }
  },
  {
   "cell_type": "markdown",
   "source": [
    "# Plots"
   ],
   "metadata": {
    "collapsed": false
   }
  },
  {
   "cell_type": "code",
   "execution_count": null,
   "outputs": [],
   "source": [
    "D = 100\n",
    "C_ima_digamma(D, D)"
   ],
   "metadata": {
    "collapsed": false
   }
  },
  {
   "cell_type": "code",
   "execution_count": null,
   "outputs": [],
   "source": [
    "Ds = np.logspace(0, 3, 1000).astype(int)\n",
    "plt.plot(Ds, [C_ima_digamma(D, D) for D in Ds])"
   ],
   "metadata": {
    "collapsed": false
   }
  },
  {
   "cell_type": "code",
   "execution_count": null,
   "outputs": [],
   "source": [
    "Ds = np.logspace(0, 3, 1000).astype(int)\n",
    "plt.plot(Ds, [C_ima_digamma(max(1, int(np.log(D))), D) for D in Ds])"
   ],
   "metadata": {
    "collapsed": false
   }
  },
  {
   "cell_type": "code",
   "execution_count": 127,
   "outputs": [],
   "source": [
    "cimas = [cimas_2d, cimas_3d, cimas_5d, cimas_8d, cimas_10d]\n",
    "cimas_prior = [cimas_prior_2d, cimas_prior_3d, cimas_prior_5d, cimas_prior_8d, cimas_prior_10d]\n",
    "\n",
    "from os.path import isfile\n",
    "\n",
    "if not isfile(\"cimas.npz\"):\n",
    "    np.savez(\"cimas.npz\", cimas=cimas, cimas_prior=cimas_prior)\n",
    "else:\n",
    "    raise FileExistsError(\"File already exists\")"
   ],
   "metadata": {
    "collapsed": false,
    "ExecuteTime": {
     "end_time": "2023-07-12T18:31:02.883626Z",
     "start_time": "2023-07-12T18:31:02.826180Z"
    }
   }
  },
  {
   "cell_type": "code",
   "execution_count": 131,
   "outputs": [],
   "source": [
    "# fig = plt.figure(figsize=figsizes.neurips2022(nrows=1, ncols=1, rel_width=1)['figure.figsize'])\n",
    "#\n",
    "# ax = fig.add_subplot(111)\n",
    "\n",
    "vp2= plt.violinplot([np.log10(g) for g in cimas], showmedians=True)\n",
    "format_violin(vp2, RED)\n",
    "plt.show()"
   ],
   "metadata": {
    "collapsed": false,
    "ExecuteTime": {
     "end_time": "2023-07-12T18:31:40.159672Z",
     "start_time": "2023-07-12T18:31:40.086998Z"
    }
   }
  },
  {
   "cell_type": "markdown",
   "source": [
    "## Violin plots\n"
   ],
   "metadata": {
    "collapsed": false
   }
  },
  {
   "cell_type": "code",
   "execution_count": 117,
   "outputs": [],
   "source": [
    "LABELPAD = 2\n",
    "TICK_PADDING = 2\n",
    "\n",
    "fig = plt.figure(figsize=figsizes.neurips2022(nrows=1, ncols=2)['figure.figsize'])\n",
    "\n",
    "\n",
    "\"\"\"MCC vs CIMA over different gamma\"\"\"\n",
    "ax = fig.add_subplot(121)\n",
    "ax.grid(True, which=\"both\", ls=\"-.\")\n",
    "\n",
    "\n",
    "# Remove ticks and labels and set which side to label\n",
    "ticksoff = dict(labelleft=False, labelright=False, left=False, right=False)\n",
    "ax.tick_params(axis=\"y\", **ticksoff)\n",
    "\n",
    "\n",
    "# MCC\n",
    "vp= ax.violinplot([np.log10(g) for g in cimas_prior[0]], showmedians=True)\n",
    "format_violin(vp,BLUE)\n",
    "\n",
    "# plt.legend([\"a\", \"b\", \"c\", \"d\", \"e\"])\n"
   ],
   "metadata": {
    "collapsed": false,
    "ExecuteTime": {
     "end_time": "2023-07-12T18:06:59.386442Z",
     "start_time": "2023-07-12T18:06:59.304319Z"
    }
   }
  },
  {
   "cell_type": "code",
   "execution_count": null,
   "outputs": [],
   "source": [
    "# to make the grid behind both plots: https://stackoverflow.com/a/55618417/16912032\n",
    "\n",
    "LABELPAD = 2\n",
    "TICK_PADDING = 2\n",
    "\n",
    "fig = plt.figure(figsize=figsizes.neurips2022(nrows=1, ncols=2)['figure.figsize'])\n",
    "\n",
    "\n",
    "\"\"\"MCC vs CIMA over different gamma\"\"\"\n",
    "ax = fig.add_subplot(121)\n",
    "ax.grid(True, which=\"both\", ls=\"-.\")\n",
    "\n",
    "\n",
    "# Remove ticks and labels and set which side to label\n",
    "ticksoff = dict(labelleft=False, labelright=False, left=False, right=False)\n",
    "ax.tick_params(axis=\"y\", **ticksoff)\n",
    "\n",
    "\n",
    "# MCC\n",
    "vp= ax.violinplot([np.log10(g) for g in cimas_prior], showmedians=True)\n",
    "format_violin(vp,BLUE)\n",
    "# CIMA\n",
    "# ax2.set_axisbelow(True)\n",
    "vp2= ax.violinplot([np.log10(g) for g in cimas_priord], showmedians=True)\n",
    "format_violin(vp2, RED)\n",
    "\n",
    "\n",
    "ax_cima.set_ylabel(\"$\\log_{10}c_{\\mathrm{IMA}}$\", labelpad=LABELPAD)\n",
    "ax.set_ylabel(\"$\\mathrm{MCC}$\", labelpad=LABELPAD+17)\n",
    "\n",
    "ax.set_xlabel(\"$\\log_{10}\\gamma^2$\", labelpad=LABELPAD)\n",
    "ax.set_xticklabels([0] + sorted(np.log10(moebius_df[\"gamma_square\"]).astype(int).unique()))\n",
    "\n",
    "\n",
    "\n",
    "plt.legend([vp['bodies'][0], vp2['bodies'][0]], [\"$\\mathrm{MCC}$\", \"$\\log_{10}c_{\\mathrm{IMA}}$\"], loc='center left')\n",
    "\n",
    "\n",
    "\n",
    "plt.savefig(\"moebius_mcc_cima_left.svg\")"
   ],
   "metadata": {
    "collapsed": false
   }
  }
 ],
 "metadata": {
  "kernelspec": {
   "display_name": "Python 3",
   "language": "python",
   "name": "python3"
  },
  "language_info": {
   "codemirror_mode": {
    "name": "ipython",
    "version": 2
   },
   "file_extension": ".py",
   "mimetype": "text/x-python",
   "name": "python",
   "nbconvert_exporter": "python",
   "pygments_lexer": "ipython2",
   "version": "2.7.6"
  }
 },
 "nbformat": 4,
 "nbformat_minor": 0
}

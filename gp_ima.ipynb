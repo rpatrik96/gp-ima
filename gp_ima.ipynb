{
 "cells": [
  {
   "cell_type": "code",
   "execution_count": null,
   "metadata": {
    "collapsed": true
   },
   "outputs": [],
   "source": [
    "\n",
    "import numpy as np\n",
    "import matplotlib.pyplot as plt\n",
    "from ima.ima.plotting import cart2pol\n",
    "from gp_ima.ima import C_ima_digamma, C_ima_sample\n",
    "import GPy\n",
    "from tueplots import bundles, figsizes"
   ]
  },
  {
   "cell_type": "code",
   "execution_count": null,
   "outputs": [],
   "source": [
    "import sys\n",
    "\n",
    "%load_ext autoreload\n",
    "%autoreload 2\n",
    "\n",
    "sys.path.insert(0, '.')"
   ],
   "metadata": {
    "collapsed": false
   }
  },
  {
   "cell_type": "code",
   "execution_count": null,
   "outputs": [],
   "source": [
    "from analysis import plot_typography, estimate2uniform, generate_moebius_data"
   ],
   "metadata": {
    "collapsed": false
   }
  },
  {
   "cell_type": "code",
   "execution_count": null,
   "outputs": [],
   "source": [
    "USETEX = True"
   ],
   "metadata": {
    "collapsed": false
   }
  },
  {
   "cell_type": "code",
   "execution_count": null,
   "outputs": [],
   "source": [
    "plt.rcParams.update(bundles.neurips2022(usetex=USETEX))\n",
    "plt.rcParams.update({\n",
    "    'text.latex.preamble': [r'\\usepackage{amsfonts}', # mathbb\n",
    "                            r'\\usepackage{amsmath}'] # boldsymbol\n",
    "})"
   ],
   "metadata": {
    "collapsed": false
   }
  },
  {
   "cell_type": "code",
   "execution_count": null,
   "outputs": [],
   "source": [
    "plot_typography(usetex=USETEX, small=12, medium=16, big=20)"
   ],
   "metadata": {
    "collapsed": false
   }
  },
  {
   "cell_type": "code",
   "execution_count": null,
   "outputs": [],
   "source": [
    "\n",
    "plt.ion(); plt.style.use('hsv')\n"
   ],
   "metadata": {
    "collapsed": false
   }
  },
  {
   "cell_type": "code",
   "execution_count": null,
   "outputs": [],
   "source": [
    "NUM_DATA = 500\n",
    "LATENT_DIM = OBS_DIM = 2\n",
    "SEED = 42\n",
    "\n",
    "np.random.seed(SEED)\n",
    "Z, X, c = generate_moebius_data(NUM_DATA, LATENT_DIM, OBS_DIM)"
   ],
   "metadata": {
    "collapsed": false
   }
  },
  {
   "cell_type": "code",
   "execution_count": null,
   "outputs": [],
   "source": [
    "NUM_SEEDS = 5\n",
    "NUM_SAMPLES_C_IMA = 100\n",
    "NUM_RESTARTS = 10\n",
    "\n",
    "cimas_sparse = []\n",
    "zs_sparse  =[]\n",
    "zs_uni_sparse =[]\n",
    "\n",
    "np.random.seed(SEED)\n",
    "\n",
    "for i in range(NUM_SEEDS):\n",
    "    kernel = GPy.kern.RBF(2, ARD=False) + GPy.kern.Bias(2)\n",
    "    m = GPy.models.BayesianGPLVM(np.asarray(X), 2, kernel=kernel, num_inducing=20)\n",
    "    m.likelihood = GPy.likelihoods.Gaussian(variance=1e-4)\n",
    "    m.optimize_restarts(NUM_RESTARTS, optimizer='lbfgs')\n",
    "\n",
    "    cimas_sparse.append(np.mean([C_ima_sample(m) for _ in range(NUM_SAMPLES_C_IMA)]))\n",
    "    zs_sparse.append(m.X.mean)\n",
    "    zs_uni_sparse.append(estimate2uniform(zs_sparse[-1]))\n"
   ],
   "metadata": {
    "collapsed": false
   }
  },
  {
   "cell_type": "code",
   "execution_count": null,
   "outputs": [],
   "source": [
    "idx=0\n",
    "plt.scatter(zs_uni_sparse[idx][:, 0], zs_uni_sparse[idx][:, 1], c=c)"
   ],
   "metadata": {
    "collapsed": false
   }
  },
  {
   "cell_type": "code",
   "execution_count": null,
   "outputs": [],
   "source": [
    "NUM_SEEDS = 5\n",
    "NUM_SAMPLES_C_IMA = 100\n",
    "NUM_RESTARTS = 5\n",
    "\n",
    "cimas = []\n",
    "zs  =[]\n",
    "zs_uni =[]\n",
    "\n",
    "np.random.seed(SEED)\n",
    "\n",
    "for i in range(NUM_SEEDS):\n",
    "    kernel = GPy.kern.RBF(2, ARD=False) + GPy.kern.Bias(2)\n",
    "    m = GPy.models.GPLVM(np.asarray(X), 2, kernel=kernel)\n",
    "    m.likelihood = GPy.likelihoods.Gaussian(variance=1e-6)\n",
    "    m.optimize_restarts(NUM_RESTARTS, optimizer='lbfgs')\n",
    "\n",
    "    cimas.append(np.mean([C_ima_sample(m) for _ in range(NUM_SAMPLES_C_IMA)]))\n",
    "    zs.append(m.X.values)\n",
    "    zs_uni.append(estimate2uniform(zs[-1]))"
   ],
   "metadata": {
    "collapsed": false
   }
  },
  {
   "cell_type": "code",
   "execution_count": null,
   "outputs": [],
   "source": [
    "LABELPAD = 1\n",
    "TICK_PADDING = 2\n",
    "IDX = 4\n",
    "IDX_SPARSE = 1\n",
    "fig = plt.figure(figsize=figsizes.neurips2022(nrows=1, ncols=2, rel_width=1)['figure.figsize'])\n",
    "\n",
    "\n",
    "\n",
    "\n",
    "ax = fig.add_subplot(141)\n",
    "ax.scatter(Z[:, 0], Z[:, 1], c=c, cmap=\"hsv\", label=\"Latents\")\n",
    "\n",
    "ax2 = fig.add_subplot(142)\n",
    "ax2.scatter(X[:, 0], X[:, 1], c=c, cmap=\"hsv\", label=\"Observations\")\n",
    "\n",
    "ax3 = fig.add_subplot(143)\n",
    "ax3.scatter(zs_uni[IDX][:, 0], zs_uni[IDX][:, 1], c=c, cmap=\"hsv\", label=\"Reconstruction (GPLVM)\")\n",
    "\n",
    "\n",
    "ax4 = fig.add_subplot(144)\n",
    "ax4.scatter(zs_uni_sparse[IDX_SPARSE][:, 0], zs_uni_sparse[IDX_SPARSE][:, 1], c=c, cmap=\"hsv\", label=\"Reconstruction (Sparse GPLVM)\")\n",
    "\n",
    "\n",
    "# Remove ticks and labels and set which side to label\n",
    "ticksoff = dict(labelleft=False, labelright=False, left=False, right=False, labelbottom=False, bottom=False)\n",
    "ax.tick_params(axis=\"both\", **ticksoff)\n",
    "ax2.tick_params(axis=\"both\", **ticksoff)\n",
    "ax3.tick_params(axis=\"both\", **ticksoff)\n",
    "ax4.tick_params(axis=\"both\", **ticksoff)\n",
    "\n",
    "ax.set_title(\"Latents\")\n",
    "ax2.set_title(\"Observations\")\n",
    "ax3.set_title(\"Rec. (GPLVM)\")\n",
    "ax4.set_title(\"Rec. (Sparse GPLVM)\")\n",
    "\n",
    "\n",
    "\n",
    "plt.savefig(\"gplvm_ima.svg\")"
   ],
   "metadata": {
    "collapsed": false
   }
  },
  {
   "cell_type": "code",
   "execution_count": null,
   "outputs": [],
   "source": [
    "Ds = np.logspace(0, 3, 1000).astype(int)\n",
    "plt.plot(Ds, [C_ima_digamma(max(1, int(np.log(D))), D) for D in Ds])"
   ],
   "metadata": {
    "collapsed": false
   }
  }
 ],
 "metadata": {
  "kernelspec": {
   "display_name": "Python 3",
   "language": "python",
   "name": "python3"
  },
  "language_info": {
   "codemirror_mode": {
    "name": "ipython",
    "version": 2
   },
   "file_extension": ".py",
   "mimetype": "text/x-python",
   "name": "python",
   "nbconvert_exporter": "python",
   "pygments_lexer": "ipython2",
   "version": "2.7.6"
  }
 },
 "nbformat": 4,
 "nbformat_minor": 0
}

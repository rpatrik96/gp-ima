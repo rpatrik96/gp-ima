{
 "cells": [
  {
   "cell_type": "code",
   "execution_count": null,
   "metadata": {
    "collapsed": true
   },
   "outputs": [],
   "source": [
    "\n",
    "import jax\n",
    "import numpy as np\n",
    "import matplotlib.pyplot as plt\n",
    "from scipy.stats import ortho_group\n",
    "from ima.ima.mixing_functions import build_moebius_transform\n",
    "from ima.ima.plotting import cart2pol\n",
    "from gp_ima.ima import C_ima_digamma, C_ima_sample\n",
    "from jax import numpy as jnp\n",
    "import GPy\n",
    "from tueplots import bundles, figsizes"
   ]
  },
  {
   "cell_type": "code",
   "execution_count": null,
   "outputs": [],
   "source": [
    "import sys\n",
    "\n",
    "%load_ext autoreload\n",
    "%autoreload 2\n",
    "\n",
    "sys.path.insert(0, '.')"
   ],
   "metadata": {
    "collapsed": false
   }
  },
  {
   "cell_type": "code",
   "execution_count": null,
   "outputs": [],
   "source": [
    "from analysis import plot_typography, estimate2uniform"
   ],
   "metadata": {
    "collapsed": false
   }
  },
  {
   "cell_type": "code",
   "execution_count": null,
   "outputs": [],
   "source": [
    "USETEX = True"
   ],
   "metadata": {
    "collapsed": false
   }
  },
  {
   "cell_type": "code",
   "execution_count": null,
   "outputs": [],
   "source": [
    "plt.rcParams.update(bundles.neurips2022(usetex=USETEX))\n",
    "plt.rcParams.update({\n",
    "    'text.latex.preamble': [r'\\usepackage{amsfonts}', # mathbb\n",
    "                            r'\\usepackage{amsmath}'] # boldsymbol\n",
    "})"
   ],
   "metadata": {
    "collapsed": false
   }
  },
  {
   "cell_type": "code",
   "execution_count": null,
   "outputs": [],
   "source": [
    "plot_typography(usetex=USETEX, small=12, medium=16, big=20)"
   ],
   "metadata": {
    "collapsed": false
   }
  },
  {
   "cell_type": "code",
   "execution_count": null,
   "outputs": [],
   "source": [
    "\n",
    "plt.ion(); plt.style.use('seaborn-pastel')\n",
    "np.random.seed(42)"
   ],
   "metadata": {
    "collapsed": false
   }
  },
  {
   "cell_type": "code",
   "execution_count": null,
   "outputs": [],
   "source": [
    "NUM_DATA = 2500\n",
    "LATENT_DIM = OBS_DIM = 2\n",
    "\n"
   ],
   "metadata": {
    "collapsed": false
   }
  },
  {
   "cell_type": "code",
   "execution_count": null,
   "outputs": [],
   "source": [
    "\n",
    "Z = np.random.uniform(-0.5, 0.5, size=(NUM_DATA, LATENT_DIM))\n",
    "_, c = cart2pol(Z[:, 1], Z[:, 0])\n",
    "\n",
    "# plt.scatter(Z[:, 0], Z[:, 1], c=c)\n",
    "\n",
    "A = ortho_group.rvs(dim=OBS_DIM)\n",
    "A = jax.numpy.array(A)\n",
    "\n",
    "alpha = 1.0\n",
    "a = []\n",
    "while len(a) < OBS_DIM:\n",
    "    s = np.random.randn()\n",
    "    if np.abs(s) > 0.5:\n",
    "        a = a + [s]\n",
    "a = jax.numpy.array(a)\n",
    "b = jax.numpy.zeros(OBS_DIM)\n",
    "\n",
    "mixing, _ = build_moebius_transform(alpha, A, a, b, epsilon=2)\n",
    "\n",
    "X = jax.vmap(mixing)(Z)\n",
    "plt.scatter(X[:, 0], X[:, 1], c=c)"
   ],
   "metadata": {
    "collapsed": false
   }
  },
  {
   "cell_type": "code",
   "execution_count": null,
   "outputs": [],
   "source": [
    "\n",
    "\n",
    "kernel = GPy.kern.RBF(2, ARD=False) + GPy.kern.Bias(2)\n",
    "m = GPy.models.BayesianGPLVM(np.asarray(X), 2, kernel=kernel, num_inducing=100)\n",
    "m.optimize_restarts(3, optimizer='lbfgs')"
   ],
   "metadata": {
    "collapsed": false
   }
  },
  {
   "cell_type": "code",
   "execution_count": null,
   "outputs": [],
   "source": [
    "NUM_SAMPLES_C_IMA = 1000\n",
    "C_IMA = [C_ima_sample(m) for _ in range(NUM_SAMPLES_C_IMA)]"
   ],
   "metadata": {
    "collapsed": false
   }
  },
  {
   "cell_type": "code",
   "execution_count": null,
   "outputs": [],
   "source": [
    "Zest = m.X.mean\n",
    "Zest_uni_cima = estimate2uniform(Zest)\n",
    "\n"
   ],
   "metadata": {
    "collapsed": false
   }
  },
  {
   "cell_type": "code",
   "execution_count": null,
   "outputs": [],
   "source": [
    "\n",
    "\n",
    "_, cest = cart2pol(Zest[:, 0], Zest[:, 1])\n",
    "plt.scatter(Zest[:, 0], Zest[:, 1], c=cest)"
   ],
   "metadata": {
    "collapsed": false
   }
  },
  {
   "cell_type": "code",
   "execution_count": null,
   "outputs": [],
   "source": [
    "\n",
    "\n",
    "_, cest = cart2pol(Zest_uni_cima[:, 0], Zest_uni_cima[:, 1])\n",
    "plt.scatter(Zest_uni_cima[:, 0], Zest_uni_cima[:, 1], c=cest)"
   ],
   "metadata": {
    "collapsed": false
   }
  },
  {
   "cell_type": "code",
   "execution_count": null,
   "outputs": [],
   "source": [
    "plt.plot(C_IMA)"
   ],
   "metadata": {
    "collapsed": false
   }
  },
  {
   "cell_type": "code",
   "execution_count": null,
   "outputs": [],
   "source": [
    "Ds = np.logspace(0, 3, 1000).astype(int)\n",
    "plt.plot(Ds, [C_ima_digamma(max(1, int(np.log(D))), D) for D in Ds])"
   ],
   "metadata": {
    "collapsed": false
   }
  },
  {
   "cell_type": "code",
   "execution_count": null,
   "outputs": [],
   "source": [],
   "metadata": {
    "collapsed": false,
    "pycharm": {
     "is_executing": true
    }
   }
  },
  {
   "cell_type": "code",
   "execution_count": null,
   "outputs": [],
   "source": [],
   "metadata": {
    "collapsed": false
   }
  }
 ],
 "metadata": {
  "kernelspec": {
   "display_name": "Python 3",
   "language": "python",
   "name": "python3"
  },
  "language_info": {
   "codemirror_mode": {
    "name": "ipython",
    "version": 2
   },
   "file_extension": ".py",
   "mimetype": "text/x-python",
   "name": "python",
   "nbconvert_exporter": "python",
   "pygments_lexer": "ipython2",
   "version": "2.7.6"
  }
 },
 "nbformat": 4,
 "nbformat_minor": 0
}
